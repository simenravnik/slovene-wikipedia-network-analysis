{
 "cells": [
  {
   "cell_type": "code",
   "execution_count": 1,
   "metadata": {},
   "outputs": [],
   "source": [
    "import json\n",
    "import os"
   ]
  },
  {
   "cell_type": "code",
   "execution_count": 2,
   "metadata": {},
   "outputs": [],
   "source": [
    "with open(\"../data/wikilinks.json\", \"r\") as f:\n",
    "    data = json.loads(f.read())\n",
    "\n",
    "with open(\"../data/titles.json\", \"r\") as f:\n",
    "    titles = json.loads(f.read())\n",
    "\n",
    "with open(\"../data/title_to_id_map.json\", \"r\") as f:\n",
    "    title_to_id_map = json.loads(f.read())\n",
    "\n",
    "with open(\"../data/id_to_title_map.json\", \"r\") as f:\n",
    "    id_to_title_map = json.loads(f.read())\n",
    "\n",
    "titles_set = set(titles).intersection(set(title_to_id_map.keys()))\n",
    "\n",
    "titles_ids = set(map(lambda title: title_to_id_map[title], list(titles_set)))\n",
    "data_ids = set(map(lambda title: int(title), data.keys()))"
   ]
  },
  {
   "cell_type": "code",
   "execution_count": 3,
   "metadata": {},
   "outputs": [],
   "source": [
    "pajek_lines = []\n",
    "pajek_lines.append(\"*Vertices \" + str(len(data.keys())))\n",
    "\n",
    "count = 1\n",
    "mapper = dict()\n",
    "for id in sorted(list(map(lambda id: int(id), data.keys()))):\n",
    "    mapper[id_to_title_map[str(id)]] = count\n",
    "    pajek_lines.append(str(count) + \" \\\"\" + id_to_title_map[str(id)] + \"\\\"\")\n",
    "    count += 1\n",
    "\n",
    "pajek_lines.append(\"*Arcs\")\n",
    "weight = 1\n",
    "for id in sorted(list(map(lambda id: int(id), data.keys()))):\n",
    "    links = data[str(id)]\n",
    "\n",
    "    left = mapper[id_to_title_map[str(id)]]\n",
    "    for link in links:\n",
    "        right = mapper[id_to_title_map[str(link)]]\n",
    "        pajek_lines.append(str(left) + \" \" + str(right) + \" \" + str(weight))"
   ]
  },
  {
   "cell_type": "code",
   "execution_count": 4,
   "metadata": {},
   "outputs": [],
   "source": [
    "with open(os.path.join(\"..\", \"data\", \"wikilinks.net\"), 'w') as f:\n",
    "    f.write('\\n'.join(pajek_lines))"
   ]
  },
  {
   "cell_type": "code",
   "execution_count": null,
   "metadata": {},
   "outputs": [],
   "source": []
  }
 ],
 "metadata": {
  "interpreter": {
   "hash": "ad4436c7e962e949d150c76746916f0dd543f0521219d740f210ff6e4096d070"
  },
  "kernelspec": {
   "display_name": "Python 3.9.12 ('ina2')",
   "language": "python",
   "name": "python3"
  },
  "language_info": {
   "codemirror_mode": {
    "name": "ipython",
    "version": 3
   },
   "file_extension": ".py",
   "mimetype": "text/x-python",
   "name": "python",
   "nbconvert_exporter": "python",
   "pygments_lexer": "ipython3",
   "version": "3.9.12"
  },
  "orig_nbformat": 4
 },
 "nbformat": 4,
 "nbformat_minor": 2
}
