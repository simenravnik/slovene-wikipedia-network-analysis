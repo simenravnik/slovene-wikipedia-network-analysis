{
 "cells": [
  {
   "cell_type": "code",
   "execution_count": 45,
   "metadata": {},
   "outputs": [],
   "source": [
    "import json\n",
    "import networkx as nx\n",
    "from helper_functions import read_net, read_lexical_net"
   ]
  },
  {
   "cell_type": "code",
   "execution_count": 33,
   "metadata": {},
   "outputs": [],
   "source": [
    "G = read_net(\"data\", \"wikilinks_ids\")"
   ]
  },
  {
   "cell_type": "code",
   "execution_count": 46,
   "metadata": {},
   "outputs": [],
   "source": [
    "with open(\"data/idx_to_id_map.json\", \"r\") as f:\n",
    "    idx_to_id_map = json.load(f)\n",
    "with open(\"data/id_to_title_map.json\", \"r\") as f:\n",
    "    id_to_title_map = json.load(f)"
   ]
  },
  {
   "cell_type": "code",
   "execution_count": 55,
   "metadata": {},
   "outputs": [],
   "source": [
    "filename = \"wikilinks_summaries_new.edg\""
   ]
  },
  {
   "cell_type": "code",
   "execution_count": 56,
   "metadata": {},
   "outputs": [],
   "source": [
    "all_pageids = set()\n",
    "with open(\"data/\" + filename, \"r\") as f:\n",
    "    lines = f.readlines()\n",
    "\n",
    "    for line in lines:\n",
    "        edge = line.split()\n",
    "        all_pageids.add(int(idx_to_id_map[edge[0]]))\n",
    "        all_pageids.add(int(idx_to_id_map[edge[1]]))"
   ]
  },
  {
   "cell_type": "code",
   "execution_count": 57,
   "metadata": {},
   "outputs": [],
   "source": [
    "pageid_to_pajek_id = dict()\n",
    "sorted_pageids = sorted(all_pageids)\n",
    "for i in range(len(sorted_pageids)):\n",
    "    pageid_to_pajek_id[sorted_pageids[i]] = i+1"
   ]
  },
  {
   "cell_type": "code",
   "execution_count": 59,
   "metadata": {},
   "outputs": [],
   "source": [
    "with open(\"wikilinks_lexical_rigit.net\", \"w\") as f:\n",
    "    f.write(\"*Vertices \" + str(len(pageid_to_pajek_id)) + \"\\n\")\n",
    "\n",
    "    for id, idx in pageid_to_pajek_id.items():\n",
    "        f.write(str(idx) + \" \\\"\" + str(id) + \"\\\"\\n\")\n",
    "    \n",
    "    f.write(\"*Edges\\n\")\n",
    "    with open(\"data/\" + filename, \"r\") as f2:\n",
    "        lines = f2.readlines()\n",
    "\n",
    "        for line in lines:\n",
    "            edge = line.split() \n",
    "            try:\n",
    "                f.write(str(pageid_to_pajek_id[int(idx_to_id_map[edge[0]])]) + \" \" + str(pageid_to_pajek_id[int(idx_to_id_map[edge[1]])]) + \"\\n\")\n",
    "            except Exception as e:\n",
    "                print(e)"
   ]
  },
  {
   "cell_type": "code",
   "execution_count": 5,
   "metadata": {},
   "outputs": [],
   "source": [
    "G_lexical = read_lexical_net(\"\", \"wikilinks_lexical\")"
   ]
  },
  {
   "cell_type": "code",
   "execution_count": 60,
   "metadata": {},
   "outputs": [],
   "source": [
    "G_lexical_rigit = read_lexical_net(\"\", \"wikilinks_lexical_rigit\")"
   ]
  },
  {
   "cell_type": "code",
   "execution_count": 61,
   "metadata": {},
   "outputs": [],
   "source": [
    "nx.write_edgelist(G_lexical, \"wikilinks_lexical_rigit.edg\", data=False)"
   ]
  },
  {
   "cell_type": "code",
   "execution_count": 8,
   "metadata": {},
   "outputs": [],
   "source": [
    "edges = G_lexical.edges()\n",
    "nodes = G_lexical.nodes(data=True)"
   ]
  },
  {
   "cell_type": "code",
   "execution_count": 18,
   "metadata": {},
   "outputs": [
    {
     "data": {
      "text/plain": [
       "2"
      ]
     },
     "execution_count": 18,
     "metadata": {},
     "output_type": "execute_result"
    }
   ],
   "source": [
    "edge[0]"
   ]
  },
  {
   "cell_type": "code",
   "execution_count": 20,
   "metadata": {},
   "outputs": [],
   "source": [
    "n = G_lexical_rigit.number_of_nodes()\n",
    "m = G_lexical_rigit.number_of_edges()"
   ]
  },
  {
   "cell_type": "code",
   "execution_count": 22,
   "metadata": {},
   "outputs": [
    {
     "data": {
      "text/plain": [
       "183.44756182706794"
      ]
     },
     "execution_count": 22,
     "metadata": {},
     "output_type": "execute_result"
    }
   ],
   "source": [
    "(2*m) / n"
   ]
  },
  {
   "cell_type": "code",
   "execution_count": 28,
   "metadata": {},
   "outputs": [],
   "source": [
    "for idx, edge in enumerate(edges):\n",
    "\n",
    "    if idx > 10000000:\n",
    "        node_from = nodes[edge[0]][\"label\"]\n",
    "        node_to = nodes[edge[1]][\"label\"]\n",
    "\n",
    "        print(id_to_title_map[node_from]  + \"  ->  \" +  id_to_title_map[node_to])\n",
    "        print()\n",
    "\n",
    "    if idx == 10000030:\n",
    "        break\n"
   ]
  },
  {
   "cell_type": "code",
   "execution_count": 30,
   "metadata": {},
   "outputs": [],
   "source": [
    "nx.write_edgelist(G_lexical, \"wikilinks_lexical.edg\", data=False)"
   ]
  },
  {
   "cell_type": "code",
   "execution_count": 31,
   "metadata": {},
   "outputs": [],
   "source": [
    "nx.write_pajek(G_lexical, \"test.net\")"
   ]
  },
  {
   "cell_type": "code",
   "execution_count": null,
   "metadata": {},
   "outputs": [],
   "source": []
  }
 ],
 "metadata": {
  "interpreter": {
   "hash": "1eddb0b712339d96dab77b824a81acd38b5d498d90d4a4e2002c4bad403bc592"
  },
  "kernelspec": {
   "display_name": "Python 3.10.4 ('ina')",
   "language": "python",
   "name": "python3"
  },
  "language_info": {
   "codemirror_mode": {
    "name": "ipython",
    "version": 3
   },
   "file_extension": ".py",
   "mimetype": "text/x-python",
   "name": "python",
   "nbconvert_exporter": "python",
   "pygments_lexer": "ipython3",
   "version": "3.10.4"
  },
  "orig_nbformat": 4
 },
 "nbformat": 4,
 "nbformat_minor": 2
}
