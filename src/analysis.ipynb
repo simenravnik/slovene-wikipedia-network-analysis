{
 "cells": [
  {
   "cell_type": "code",
   "execution_count": 23,
   "metadata": {},
   "outputs": [],
   "source": [
    "import networkx as nx\n",
    "import os\n",
    "import json"
   ]
  },
  {
   "cell_type": "code",
   "execution_count": 24,
   "metadata": {},
   "outputs": [],
   "source": [
    "filename = \"wikilinks_ids\"\n",
    "folder = os.path.join(\"..\", \"data\")"
   ]
  },
  {
   "cell_type": "code",
   "execution_count": 25,
   "metadata": {},
   "outputs": [],
   "source": [
    "def read_net(folder, graph_name):\n",
    "    \"\"\"Read network\"\"\"\n",
    "    file_name = graph_name + '.net'\n",
    "    G = nx.DiGraph(name = file_name)\n",
    "    with open(os.path.join(folder, file_name), 'r', encoding='utf8') as f:\n",
    "        f.readline()\n",
    "        # add nodes\n",
    "        for line in f:\n",
    "            if line.startswith(\"*\"):\n",
    "                break\n",
    "            else:\n",
    "                node_info = line.split(\"\\\"\")\n",
    "                node = int(node_info[0]) - 1\n",
    "                label = node_info[1]\n",
    "                G.add_node(node, label=label)\n",
    "\n",
    "        # add edges\n",
    "        for line in f:\n",
    "            node1_str, node2_str = line.split()[:2]\n",
    "            G.add_edge(int(node1_str)-1, int(node2_str)-1)\n",
    "    return G"
   ]
  },
  {
   "cell_type": "code",
   "execution_count": 26,
   "metadata": {},
   "outputs": [],
   "source": [
    "G = read_net(folder, filename)"
   ]
  },
  {
   "cell_type": "code",
   "execution_count": 27,
   "metadata": {},
   "outputs": [
    {
     "data": {
      "text/plain": [
       "176413"
      ]
     },
     "execution_count": 27,
     "metadata": {},
     "output_type": "execute_result"
    }
   ],
   "source": [
    "len(G.nodes)"
   ]
  },
  {
   "cell_type": "code",
   "execution_count": 28,
   "metadata": {},
   "outputs": [],
   "source": [
    "with open(\"../data/wikilinks.json\", \"r\") as f:\n",
    "    data = json.loads(f.read())\n",
    "\n",
    "with open(\"../data/title_to_id_map.json\", \"r\") as f:\n",
    "    title_to_id_map = json.loads(f.read())\n",
    "\n",
    "with open(\"../data/id_to_title_map.json\", \"r\") as f:\n",
    "    id_to_title_map = json.loads(f.read())"
   ]
  },
  {
   "cell_type": "code",
   "execution_count": 29,
   "metadata": {},
   "outputs": [
    {
     "name": "stdout",
     "output_type": "stream",
     "text": [
      "Virtualna mednarodna normativna datoteka 41095\n",
      "Geografski koordinatni sistem 30887\n",
      "Slovenija 28918\n",
      "Mednarodna standardna oznaka imena 21979\n",
      "Naselje 21783\n",
      "Seznam suverenih držav 18690\n",
      "Francija 17053\n",
      "Združene države Amerike 16923\n",
      "Slovenci 16551\n",
      "CONOR 16083\n",
      "Système universitaire de documentation 14833\n",
      "Druga svetovna vojna 14293\n",
      "Mednarodna standardna knjižna številka 13482\n",
      "Italija 13078\n",
      "Nemčija 12636\n",
      "Združeno kraljestvo Velike Britanije in Severne Irske 12255\n",
      "Hrvaška 12160\n",
      "Časovni pas 11959\n",
      "Statistični urad Republike Slovenije 11548\n",
      "2001 11538\n"
     ]
    }
   ],
   "source": [
    "for i, indegree in sorted(G.in_degree, key=lambda x: x[1], reverse=True)[:20]:\n",
    "    print(id_to_title_map[str(G.nodes()[i]['label'])], indegree)"
   ]
  },
  {
   "cell_type": "code",
   "execution_count": 30,
   "metadata": {},
   "outputs": [
    {
     "name": "stdout",
     "output_type": "stream",
     "text": [
      "Seznam naselij v Srbiji 4687\n",
      "Seznam vojaških vsebin 4084\n",
      "Seznam matematičnih vsebin 2244\n",
      "Seznam fizikalnih vsebin 2229\n",
      "Seznam astronomskih vsebin 2197\n",
      "Seznam seznamov 2061\n",
      "Boris A. Novak 1688\n",
      "Svetlana Makarovič 1651\n",
      "Zlatko Šugman 1620\n",
      "Drago Jančar 1539\n",
      "Anton Nanut 1534\n",
      "Seznam zgodovinskih vsebin 1509\n",
      "Pavle Merkù 1481\n",
      "Irena Grafenauer 1453\n",
      "Seznam slovenskih politikov 1437\n",
      "Ivo Petrić 1395\n",
      "Seznam osebnosti iz Mestne občine Celje 1374\n",
      "Seznam francoskih generalov 1342\n",
      "Delavska godba Trbovlje 1333\n",
      "Dimitrij Rupel 1326\n"
     ]
    }
   ],
   "source": [
    "for i, indegree in sorted(G.out_degree, key=lambda x: x[1], reverse=True)[:20]:\n",
    "    print(id_to_title_map[str(G.nodes()[i]['label'])], indegree)"
   ]
  },
  {
   "cell_type": "code",
   "execution_count": 11,
   "metadata": {},
   "outputs": [],
   "source": [
    "with open(os.path.join(\"..\", \"data\", \"similarity_map.json\"), \"r\") as f:\n",
    "    similarity_map = json.loads(f.read())\n",
    "\n",
    "# Flatten\n",
    "possible_rederect_titles = []\n",
    "for i, values in similarity_map.items():\n",
    "    group = list(values)\n",
    "    group.append(i)\n",
    "    possible_rederect_titles.extend(group)"
   ]
  },
  {
   "cell_type": "code",
   "execution_count": 15,
   "metadata": {},
   "outputs": [
    {
     "data": {
      "text/plain": [
       "False"
      ]
     },
     "execution_count": 15,
     "metadata": {},
     "output_type": "execute_result"
    }
   ],
   "source": [
    "\"Pavle Merku\" in possible_rederect_titles"
   ]
  },
  {
   "cell_type": "code",
   "execution_count": 19,
   "metadata": {},
   "outputs": [
    {
     "data": {
      "text/plain": [
       "False"
      ]
     },
     "execution_count": 19,
     "metadata": {},
     "output_type": "execute_result"
    }
   ],
   "source": [
    "data[str(title_to_id_map[\"Pavle Merku\"])] == data[str(title_to_id_map[\"Pavle Merkù\"])]"
   ]
  },
  {
   "cell_type": "code",
   "execution_count": 21,
   "metadata": {},
   "outputs": [
    {
     "data": {
      "text/plain": [
       "1499"
      ]
     },
     "execution_count": 21,
     "metadata": {},
     "output_type": "execute_result"
    }
   ],
   "source": [
    "len(data[str(title_to_id_map[\"Pavle Merku\"])])"
   ]
  },
  {
   "cell_type": "code",
   "execution_count": 22,
   "metadata": {},
   "outputs": [
    {
     "data": {
      "text/plain": [
       "1490"
      ]
     },
     "execution_count": 22,
     "metadata": {},
     "output_type": "execute_result"
    }
   ],
   "source": [
    "len(data[str(title_to_id_map[\"Pavle Merkù\"])])"
   ]
  },
  {
   "cell_type": "code",
   "execution_count": null,
   "metadata": {},
   "outputs": [],
   "source": []
  }
 ],
 "metadata": {
  "interpreter": {
   "hash": "ad4436c7e962e949d150c76746916f0dd543f0521219d740f210ff6e4096d070"
  },
  "kernelspec": {
   "display_name": "Python 3.9.12 ('ina2')",
   "language": "python",
   "name": "python3"
  },
  "language_info": {
   "codemirror_mode": {
    "name": "ipython",
    "version": 3
   },
   "file_extension": ".py",
   "mimetype": "text/x-python",
   "name": "python",
   "nbconvert_exporter": "python",
   "pygments_lexer": "ipython3",
   "version": "3.9.12"
  },
  "orig_nbformat": 4
 },
 "nbformat": 4,
 "nbformat_minor": 2
}
