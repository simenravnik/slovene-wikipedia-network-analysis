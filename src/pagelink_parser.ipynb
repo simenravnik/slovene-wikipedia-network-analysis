{
 "cells": [
  {
   "cell_type": "code",
   "execution_count": 86,
   "metadata": {},
   "outputs": [],
   "source": [
    "import json\n",
    "from collections import defaultdict, OrderedDict\n",
    "import wikipediaapi\n",
    "import requests\n",
    "import os"
   ]
  },
  {
   "cell_type": "code",
   "execution_count": 87,
   "metadata": {},
   "outputs": [],
   "source": [
    "wiki = wikipediaapi.Wikipedia('sl')"
   ]
  },
  {
   "cell_type": "code",
   "execution_count": 88,
   "metadata": {},
   "outputs": [],
   "source": [
    "WIKIPEDIA_API = \"https://sl.wikipedia.org/w/api.php\""
   ]
  },
  {
   "cell_type": "code",
   "execution_count": 98,
   "metadata": {},
   "outputs": [
    {
     "name": "stdout",
     "output_type": "stream",
     "text": [
      "100\n",
      "200\n",
      "300\n",
      "400\n",
      "500\n"
     ]
    }
   ],
   "source": [
    "params = {\n",
    "    \"action\": \"query\",\n",
    "    \"format\": \"json\",\n",
    "    \"utf-8\": \"1\",\n",
    "    \"list\": \"allpages\",\n",
    "    \"aplimit\": \"max\",\n",
    "    \"apcontinue\": \"\",\n",
    "    \"continue\": \"\"\n",
    "}\n",
    "\n",
    "page_titles = set()\n",
    "title_to_id_map = defaultdict(int)\n",
    "count = 0\n",
    "while True:\n",
    "    r = requests.get(url=WIKIPEDIA_API, params=params)\n",
    "\n",
    "    # print(r.request.url)\n",
    "    if r.status_code == 200:\n",
    "        content = json.loads(r.text)\n",
    "    else:\n",
    "        continue\n",
    "\n",
    "    for page in content[\"query\"][\"allpages\"]:\n",
    "        # ns == 0 => Article (https://en.wikipedia.org/wiki/Wikipedia:What_is_an_article%3F)\n",
    "        if page[\"ns\"] == 0:\n",
    "            pageid = page[\"pageid\"]\n",
    "            title = page[\"title\"]\n",
    "            page_titles.add(title)\n",
    "            title_to_id_map[title] = pageid\n",
    "    \n",
    "    if \"continue\" not in content.keys():\n",
    "        break\n",
    "\n",
    "    params[\"apcontinue\"] = content[\"continue\"][\"apcontinue\"]\n",
    "    params[\"continue\"] = content[\"continue\"][\"continue\"]\n",
    "\n",
    "    count += 1\n",
    "    if count % 100 == 0:\n",
    "        print(count)"
   ]
  },
  {
   "cell_type": "code",
   "execution_count": 99,
   "metadata": {},
   "outputs": [
    {
     "data": {
      "text/plain": [
       "255758"
      ]
     },
     "execution_count": 99,
     "metadata": {},
     "output_type": "execute_result"
    }
   ],
   "source": [
    "len(page_titles)"
   ]
  },
  {
   "cell_type": "code",
   "execution_count": 95,
   "metadata": {},
   "outputs": [],
   "source": [
    "neki = \"Kategorija:sgags\""
   ]
  },
  {
   "cell_type": "code",
   "execution_count": 96,
   "metadata": {},
   "outputs": [
    {
     "data": {
      "text/plain": [
       "'Kategorija:'"
      ]
     },
     "execution_count": 96,
     "metadata": {},
     "output_type": "execute_result"
    }
   ],
   "source": [
    "neki[:11]"
   ]
  },
  {
   "cell_type": "code",
   "execution_count": 148,
   "metadata": {},
   "outputs": [],
   "source": [
    "with open(os.path.join('..', 'data', 'titles.json'), 'w') as f:\n",
    "    json.dump(list(page_titles), f)"
   ]
  },
  {
   "cell_type": "code",
   "execution_count": 85,
   "metadata": {},
   "outputs": [],
   "source": [
    "with open(os.path.join('..', 'data', 'title_to_id_map.json'), 'w') as f:\n",
    "    json.dump(title_to_id_map, f)"
   ]
  },
  {
   "cell_type": "code",
   "execution_count": 46,
   "metadata": {},
   "outputs": [],
   "source": [
    "with open(os.path.join(\"..\", \"data\", 'titles.json'), 'r') as f:\n",
    "    titles = json.load(f)"
   ]
  },
  {
   "cell_type": "code",
   "execution_count": 48,
   "metadata": {},
   "outputs": [],
   "source": [
    "titles_set = set(titles)"
   ]
  },
  {
   "cell_type": "code",
   "execution_count": 58,
   "metadata": {},
   "outputs": [
    {
     "name": "stdout",
     "output_type": "stream",
     "text": [
      "100\n"
     ]
    }
   ],
   "source": [
    "count = 0\n",
    "data = defaultdict(list)\n",
    "for title in titles:\n",
    "\n",
    "    page = wiki.page(title)\n",
    "    links = set(page.links.keys())\n",
    "    valid_links = list(links.intersection(titles_set))\n",
    "\n",
    "    data[title] = valid_links\n",
    "\n",
    "    count += 1\n",
    "    if count % 100 == 0:\n",
    "        print(count)\n",
    "    \n",
    "with open(os.path.join(\"..\", \"data\", 'wikilinks.json'), 'w') as f:\n",
    "    json.dump(data, f)"
   ]
  },
  {
   "cell_type": "code",
   "execution_count": 76,
   "metadata": {},
   "outputs": [
    {
     "ename": "JSONDecodeError",
     "evalue": "[Errno Expecting value] <!DOCTYPE html>\n<html lang=\"en\">\n<meta charset=\"utf-8\">\n<title>Wikimedia Error</title>\n<style>\n* { margin: 0; padding: 0; }\nbody { background: #fff; font: 15px/1.6 sans-serif; color: #333; }\n.content { margin: 7% auto 0; padding: 2em 1em 1em; max-width: 640px; }\n.footer { clear: both; margin-top: 14%; border-top: 1px solid #e5e5e5; background: #f9f9f9; padding: 2em 0; font-size: 0.8em; text-align: center; }\nimg { float: left; margin: 0 2em 2em 0; }\na img { border: 0; }\nh1 { margin-top: 1em; font-size: 1.2em; }\n.content-text { overflow: hidden; overflow-wrap: break-word; word-wrap: break-word; -webkit-hyphens: auto; -moz-hyphens: auto; -ms-hyphens: auto; hyphens: auto; }\np { margin: 0.7em 0 1em 0; }\na { color: #0645ad; text-decoration: none; }\na:hover { text-decoration: underline; }\ncode { font-family: sans-serif; }\n.text-muted { color: #777; }\n</style>\n<div class=\"content\" role=\"main\">\n<a href=\"https://www.wikimedia.org\"><img src=\"https://www.wikimedia.org/static/images/wmf-logo.png\" srcset=\"https://www.wikimedia.org/static/images/wmf-logo-2x.png 2x\" alt=\"Wikimedia\" width=\"135\" height=\"101\">\n</a>\n<h1>Error</h1>\n<div class=\"content-text\">\n<p>Our servers are currently under maintenance or experiencing a technical problem.\n\nPlease <a href=\"\" title=\"Reload this page\" onclick=\"window.location.reload(false); return false\">try again</a> in a few&nbsp;minutes.</p>\n\n<p>See the error message at the bottom of this page for more&nbsp;information.</p>\n</div>\n</div>\n<div class=\"footer\"><p>If you report this error to the Wikimedia System Administrators, please include the details below.</p><p class=\"text-muted\"><code>Request from 93.103.214.134 via cp3058 cp3058, Varnish XID 972915662<br>Upstream caches: cp3058 int<br>Error: 429, Too many requests - for unthrottling, contact noc@wikimedia.org to discuss a less disruptive approach at Thu, 12 May 2022 20:26:26 GMT</code></p>\n</div>\n</html>\n: 0",
     "output_type": "error",
     "traceback": [
      "\u001b[0;31m---------------------------------------------------------------------------\u001b[0m",
      "\u001b[0;31mJSONDecodeError\u001b[0m                           Traceback (most recent call last)",
      "File \u001b[0;32m/usr/local/anaconda3/envs/ina2/lib/python3.9/site-packages/requests/models.py:910\u001b[0m, in \u001b[0;36mResponse.json\u001b[0;34m(self, **kwargs)\u001b[0m\n\u001b[1;32m    <a href='file:///usr/local/anaconda3/envs/ina2/lib/python3.9/site-packages/requests/models.py?line=908'>909</a>\u001b[0m \u001b[39mtry\u001b[39;00m:\n\u001b[0;32m--> <a href='file:///usr/local/anaconda3/envs/ina2/lib/python3.9/site-packages/requests/models.py?line=909'>910</a>\u001b[0m     \u001b[39mreturn\u001b[39;00m complexjson\u001b[39m.\u001b[39;49mloads(\u001b[39mself\u001b[39;49m\u001b[39m.\u001b[39;49mtext, \u001b[39m*\u001b[39;49m\u001b[39m*\u001b[39;49mkwargs)\n\u001b[1;32m    <a href='file:///usr/local/anaconda3/envs/ina2/lib/python3.9/site-packages/requests/models.py?line=910'>911</a>\u001b[0m \u001b[39mexcept\u001b[39;00m JSONDecodeError \u001b[39mas\u001b[39;00m e:\n\u001b[1;32m    <a href='file:///usr/local/anaconda3/envs/ina2/lib/python3.9/site-packages/requests/models.py?line=911'>912</a>\u001b[0m     \u001b[39m# Catch JSON-related errors and raise as requests.JSONDecodeError\u001b[39;00m\n\u001b[1;32m    <a href='file:///usr/local/anaconda3/envs/ina2/lib/python3.9/site-packages/requests/models.py?line=912'>913</a>\u001b[0m     \u001b[39m# This aliases json.JSONDecodeError and simplejson.JSONDecodeError\u001b[39;00m\n",
      "File \u001b[0;32m/usr/local/anaconda3/envs/ina2/lib/python3.9/json/__init__.py:346\u001b[0m, in \u001b[0;36mloads\u001b[0;34m(s, cls, object_hook, parse_float, parse_int, parse_constant, object_pairs_hook, **kw)\u001b[0m\n\u001b[1;32m    <a href='file:///usr/local/anaconda3/envs/ina2/lib/python3.9/json/__init__.py?line=342'>343</a>\u001b[0m \u001b[39mif\u001b[39;00m (\u001b[39mcls\u001b[39m \u001b[39mis\u001b[39;00m \u001b[39mNone\u001b[39;00m \u001b[39mand\u001b[39;00m object_hook \u001b[39mis\u001b[39;00m \u001b[39mNone\u001b[39;00m \u001b[39mand\u001b[39;00m\n\u001b[1;32m    <a href='file:///usr/local/anaconda3/envs/ina2/lib/python3.9/json/__init__.py?line=343'>344</a>\u001b[0m         parse_int \u001b[39mis\u001b[39;00m \u001b[39mNone\u001b[39;00m \u001b[39mand\u001b[39;00m parse_float \u001b[39mis\u001b[39;00m \u001b[39mNone\u001b[39;00m \u001b[39mand\u001b[39;00m\n\u001b[1;32m    <a href='file:///usr/local/anaconda3/envs/ina2/lib/python3.9/json/__init__.py?line=344'>345</a>\u001b[0m         parse_constant \u001b[39mis\u001b[39;00m \u001b[39mNone\u001b[39;00m \u001b[39mand\u001b[39;00m object_pairs_hook \u001b[39mis\u001b[39;00m \u001b[39mNone\u001b[39;00m \u001b[39mand\u001b[39;00m \u001b[39mnot\u001b[39;00m kw):\n\u001b[0;32m--> <a href='file:///usr/local/anaconda3/envs/ina2/lib/python3.9/json/__init__.py?line=345'>346</a>\u001b[0m     \u001b[39mreturn\u001b[39;00m _default_decoder\u001b[39m.\u001b[39;49mdecode(s)\n\u001b[1;32m    <a href='file:///usr/local/anaconda3/envs/ina2/lib/python3.9/json/__init__.py?line=346'>347</a>\u001b[0m \u001b[39mif\u001b[39;00m \u001b[39mcls\u001b[39m \u001b[39mis\u001b[39;00m \u001b[39mNone\u001b[39;00m:\n",
      "File \u001b[0;32m/usr/local/anaconda3/envs/ina2/lib/python3.9/json/decoder.py:337\u001b[0m, in \u001b[0;36mJSONDecoder.decode\u001b[0;34m(self, s, _w)\u001b[0m\n\u001b[1;32m    <a href='file:///usr/local/anaconda3/envs/ina2/lib/python3.9/json/decoder.py?line=332'>333</a>\u001b[0m \u001b[39m\"\"\"Return the Python representation of ``s`` (a ``str`` instance\u001b[39;00m\n\u001b[1;32m    <a href='file:///usr/local/anaconda3/envs/ina2/lib/python3.9/json/decoder.py?line=333'>334</a>\u001b[0m \u001b[39mcontaining a JSON document).\u001b[39;00m\n\u001b[1;32m    <a href='file:///usr/local/anaconda3/envs/ina2/lib/python3.9/json/decoder.py?line=334'>335</a>\u001b[0m \n\u001b[1;32m    <a href='file:///usr/local/anaconda3/envs/ina2/lib/python3.9/json/decoder.py?line=335'>336</a>\u001b[0m \u001b[39m\"\"\"\u001b[39;00m\n\u001b[0;32m--> <a href='file:///usr/local/anaconda3/envs/ina2/lib/python3.9/json/decoder.py?line=336'>337</a>\u001b[0m obj, end \u001b[39m=\u001b[39m \u001b[39mself\u001b[39;49m\u001b[39m.\u001b[39;49mraw_decode(s, idx\u001b[39m=\u001b[39;49m_w(s, \u001b[39m0\u001b[39;49m)\u001b[39m.\u001b[39;49mend())\n\u001b[1;32m    <a href='file:///usr/local/anaconda3/envs/ina2/lib/python3.9/json/decoder.py?line=337'>338</a>\u001b[0m end \u001b[39m=\u001b[39m _w(s, end)\u001b[39m.\u001b[39mend()\n",
      "File \u001b[0;32m/usr/local/anaconda3/envs/ina2/lib/python3.9/json/decoder.py:355\u001b[0m, in \u001b[0;36mJSONDecoder.raw_decode\u001b[0;34m(self, s, idx)\u001b[0m\n\u001b[1;32m    <a href='file:///usr/local/anaconda3/envs/ina2/lib/python3.9/json/decoder.py?line=353'>354</a>\u001b[0m \u001b[39mexcept\u001b[39;00m \u001b[39mStopIteration\u001b[39;00m \u001b[39mas\u001b[39;00m err:\n\u001b[0;32m--> <a href='file:///usr/local/anaconda3/envs/ina2/lib/python3.9/json/decoder.py?line=354'>355</a>\u001b[0m     \u001b[39mraise\u001b[39;00m JSONDecodeError(\u001b[39m\"\u001b[39m\u001b[39mExpecting value\u001b[39m\u001b[39m\"\u001b[39m, s, err\u001b[39m.\u001b[39mvalue) \u001b[39mfrom\u001b[39;00m \u001b[39mNone\u001b[39m\n\u001b[1;32m    <a href='file:///usr/local/anaconda3/envs/ina2/lib/python3.9/json/decoder.py?line=355'>356</a>\u001b[0m \u001b[39mreturn\u001b[39;00m obj, end\n",
      "\u001b[0;31mJSONDecodeError\u001b[0m: Expecting value: line 1 column 1 (char 0)",
      "\nDuring handling of the above exception, another exception occurred:\n",
      "\u001b[0;31mJSONDecodeError\u001b[0m                           Traceback (most recent call last)",
      "\u001b[1;32m/Users/simenravnik/Documents/FRI/Masters/1.Letnik/2.Semester/INA/project/src/pagelink_parser.ipynb Cell 10'\u001b[0m in \u001b[0;36m<cell line: 6>\u001b[0;34m()\u001b[0m\n\u001b[1;32m      <a href='vscode-notebook-cell:/Users/simenravnik/Documents/FRI/Masters/1.Letnik/2.Semester/INA/project/src/pagelink_parser.ipynb#ch0000023?line=6'>7</a>\u001b[0m page \u001b[39m=\u001b[39m wiki\u001b[39m.\u001b[39mpage(title)\n\u001b[1;32m      <a href='vscode-notebook-cell:/Users/simenravnik/Documents/FRI/Masters/1.Letnik/2.Semester/INA/project/src/pagelink_parser.ipynb#ch0000023?line=8'>9</a>\u001b[0m all_titles\u001b[39m.\u001b[39madd(title)\n\u001b[0;32m---> <a href='vscode-notebook-cell:/Users/simenravnik/Documents/FRI/Masters/1.Letnik/2.Semester/INA/project/src/pagelink_parser.ipynb#ch0000023?line=10'>11</a>\u001b[0m summary_len \u001b[39m=\u001b[39m \u001b[39mlen\u001b[39m(page\u001b[39m.\u001b[39;49msummary)\n\u001b[1;32m     <a href='vscode-notebook-cell:/Users/simenravnik/Documents/FRI/Masters/1.Letnik/2.Semester/INA/project/src/pagelink_parser.ipynb#ch0000023?line=11'>12</a>\u001b[0m \u001b[39mif\u001b[39;00m summary_len \u001b[39m>\u001b[39m \u001b[39m20\u001b[39m:\n\u001b[1;32m     <a href='vscode-notebook-cell:/Users/simenravnik/Documents/FRI/Masters/1.Letnik/2.Semester/INA/project/src/pagelink_parser.ipynb#ch0000023?line=12'>13</a>\u001b[0m     titles_20\u001b[39m.\u001b[39madd(title)\n",
      "File \u001b[0;32m/usr/local/anaconda3/envs/ina2/lib/python3.9/site-packages/wikipediaapi/__init__.py:1025\u001b[0m, in \u001b[0;36mWikipediaPage.summary\u001b[0;34m(self)\u001b[0m\n\u001b[1;32m   <a href='file:///usr/local/anaconda3/envs/ina2/lib/python3.9/site-packages/wikipediaapi/__init__.py?line=1018'>1019</a>\u001b[0m \u001b[39m\"\"\"\u001b[39;00m\n\u001b[1;32m   <a href='file:///usr/local/anaconda3/envs/ina2/lib/python3.9/site-packages/wikipediaapi/__init__.py?line=1019'>1020</a>\u001b[0m \u001b[39mReturns summary of the current page.\u001b[39;00m\n\u001b[1;32m   <a href='file:///usr/local/anaconda3/envs/ina2/lib/python3.9/site-packages/wikipediaapi/__init__.py?line=1020'>1021</a>\u001b[0m \n\u001b[1;32m   <a href='file:///usr/local/anaconda3/envs/ina2/lib/python3.9/site-packages/wikipediaapi/__init__.py?line=1021'>1022</a>\u001b[0m \u001b[39m:return: summary\u001b[39;00m\n\u001b[1;32m   <a href='file:///usr/local/anaconda3/envs/ina2/lib/python3.9/site-packages/wikipediaapi/__init__.py?line=1022'>1023</a>\u001b[0m \u001b[39m\"\"\"\u001b[39;00m\n\u001b[1;32m   <a href='file:///usr/local/anaconda3/envs/ina2/lib/python3.9/site-packages/wikipediaapi/__init__.py?line=1023'>1024</a>\u001b[0m \u001b[39mif\u001b[39;00m \u001b[39mnot\u001b[39;00m \u001b[39mself\u001b[39m\u001b[39m.\u001b[39m_called[\u001b[39m'\u001b[39m\u001b[39mextracts\u001b[39m\u001b[39m'\u001b[39m]:\n\u001b[0;32m-> <a href='file:///usr/local/anaconda3/envs/ina2/lib/python3.9/site-packages/wikipediaapi/__init__.py?line=1024'>1025</a>\u001b[0m     \u001b[39mself\u001b[39;49m\u001b[39m.\u001b[39;49m_fetch(\u001b[39m'\u001b[39;49m\u001b[39mextracts\u001b[39;49m\u001b[39m'\u001b[39;49m)\n\u001b[1;32m   <a href='file:///usr/local/anaconda3/envs/ina2/lib/python3.9/site-packages/wikipediaapi/__init__.py?line=1025'>1026</a>\u001b[0m \u001b[39mreturn\u001b[39;00m \u001b[39mself\u001b[39m\u001b[39m.\u001b[39m_summary\n",
      "File \u001b[0;32m/usr/local/anaconda3/envs/ina2/lib/python3.9/site-packages/wikipediaapi/__init__.py:1148\u001b[0m, in \u001b[0;36mWikipediaPage._fetch\u001b[0;34m(self, call)\u001b[0m\n\u001b[1;32m   <a href='file:///usr/local/anaconda3/envs/ina2/lib/python3.9/site-packages/wikipediaapi/__init__.py?line=1146'>1147</a>\u001b[0m \u001b[39mdef\u001b[39;00m \u001b[39m_fetch\u001b[39m(\u001b[39mself\u001b[39m, call) \u001b[39m-\u001b[39m\u001b[39m>\u001b[39m \u001b[39m'\u001b[39m\u001b[39mWikipediaPage\u001b[39m\u001b[39m'\u001b[39m:\n\u001b[0;32m-> <a href='file:///usr/local/anaconda3/envs/ina2/lib/python3.9/site-packages/wikipediaapi/__init__.py?line=1147'>1148</a>\u001b[0m     \u001b[39mgetattr\u001b[39;49m(\u001b[39mself\u001b[39;49m\u001b[39m.\u001b[39;49mwiki, call)(\u001b[39mself\u001b[39;49m)\n\u001b[1;32m   <a href='file:///usr/local/anaconda3/envs/ina2/lib/python3.9/site-packages/wikipediaapi/__init__.py?line=1148'>1149</a>\u001b[0m     \u001b[39mself\u001b[39m\u001b[39m.\u001b[39m_called[call] \u001b[39m=\u001b[39m \u001b[39mTrue\u001b[39;00m\n\u001b[1;32m   <a href='file:///usr/local/anaconda3/envs/ina2/lib/python3.9/site-packages/wikipediaapi/__init__.py?line=1149'>1150</a>\u001b[0m     \u001b[39mreturn\u001b[39;00m \u001b[39mself\u001b[39m\n",
      "File \u001b[0;32m/usr/local/anaconda3/envs/ina2/lib/python3.9/site-packages/wikipediaapi/__init__.py:285\u001b[0m, in \u001b[0;36mWikipedia.extracts\u001b[0;34m(self, page, **kwargs)\u001b[0m\n\u001b[1;32m    <a href='file:///usr/local/anaconda3/envs/ina2/lib/python3.9/site-packages/wikipediaapi/__init__.py?line=281'>282</a>\u001b[0m used_params \u001b[39m=\u001b[39m kwargs\n\u001b[1;32m    <a href='file:///usr/local/anaconda3/envs/ina2/lib/python3.9/site-packages/wikipediaapi/__init__.py?line=282'>283</a>\u001b[0m used_params\u001b[39m.\u001b[39mupdate(params)\n\u001b[0;32m--> <a href='file:///usr/local/anaconda3/envs/ina2/lib/python3.9/site-packages/wikipediaapi/__init__.py?line=284'>285</a>\u001b[0m raw \u001b[39m=\u001b[39m \u001b[39mself\u001b[39;49m\u001b[39m.\u001b[39;49m_query(\n\u001b[1;32m    <a href='file:///usr/local/anaconda3/envs/ina2/lib/python3.9/site-packages/wikipediaapi/__init__.py?line=285'>286</a>\u001b[0m     page,\n\u001b[1;32m    <a href='file:///usr/local/anaconda3/envs/ina2/lib/python3.9/site-packages/wikipediaapi/__init__.py?line=286'>287</a>\u001b[0m     used_params\n\u001b[1;32m    <a href='file:///usr/local/anaconda3/envs/ina2/lib/python3.9/site-packages/wikipediaapi/__init__.py?line=287'>288</a>\u001b[0m )\n\u001b[1;32m    <a href='file:///usr/local/anaconda3/envs/ina2/lib/python3.9/site-packages/wikipediaapi/__init__.py?line=288'>289</a>\u001b[0m \u001b[39mself\u001b[39m\u001b[39m.\u001b[39m_common_attributes(raw[\u001b[39m'\u001b[39m\u001b[39mquery\u001b[39m\u001b[39m'\u001b[39m], page)\n\u001b[1;32m    <a href='file:///usr/local/anaconda3/envs/ina2/lib/python3.9/site-packages/wikipediaapi/__init__.py?line=289'>290</a>\u001b[0m pages \u001b[39m=\u001b[39m raw[\u001b[39m'\u001b[39m\u001b[39mquery\u001b[39m\u001b[39m'\u001b[39m][\u001b[39m'\u001b[39m\u001b[39mpages\u001b[39m\u001b[39m'\u001b[39m]\n",
      "File \u001b[0;32m/usr/local/anaconda3/envs/ina2/lib/python3.9/site-packages/wikipediaapi/__init__.py:585\u001b[0m, in \u001b[0;36mWikipedia._query\u001b[0;34m(self, page, params)\u001b[0m\n\u001b[1;32m    <a href='file:///usr/local/anaconda3/envs/ina2/lib/python3.9/site-packages/wikipediaapi/__init__.py?line=578'>579</a>\u001b[0m params[\u001b[39m'\u001b[39m\u001b[39mredirects\u001b[39m\u001b[39m'\u001b[39m] \u001b[39m=\u001b[39m \u001b[39m1\u001b[39m\n\u001b[1;32m    <a href='file:///usr/local/anaconda3/envs/ina2/lib/python3.9/site-packages/wikipediaapi/__init__.py?line=579'>580</a>\u001b[0m r \u001b[39m=\u001b[39m \u001b[39mself\u001b[39m\u001b[39m.\u001b[39m_session\u001b[39m.\u001b[39mget(\n\u001b[1;32m    <a href='file:///usr/local/anaconda3/envs/ina2/lib/python3.9/site-packages/wikipediaapi/__init__.py?line=580'>581</a>\u001b[0m     base_url,\n\u001b[1;32m    <a href='file:///usr/local/anaconda3/envs/ina2/lib/python3.9/site-packages/wikipediaapi/__init__.py?line=581'>582</a>\u001b[0m     params\u001b[39m=\u001b[39mparams,\n\u001b[1;32m    <a href='file:///usr/local/anaconda3/envs/ina2/lib/python3.9/site-packages/wikipediaapi/__init__.py?line=582'>583</a>\u001b[0m     \u001b[39m*\u001b[39m\u001b[39m*\u001b[39m\u001b[39mself\u001b[39m\u001b[39m.\u001b[39m_request_kwargs\n\u001b[1;32m    <a href='file:///usr/local/anaconda3/envs/ina2/lib/python3.9/site-packages/wikipediaapi/__init__.py?line=583'>584</a>\u001b[0m )\n\u001b[0;32m--> <a href='file:///usr/local/anaconda3/envs/ina2/lib/python3.9/site-packages/wikipediaapi/__init__.py?line=584'>585</a>\u001b[0m \u001b[39mreturn\u001b[39;00m r\u001b[39m.\u001b[39;49mjson()\n",
      "File \u001b[0;32m/usr/local/anaconda3/envs/ina2/lib/python3.9/site-packages/requests/models.py:917\u001b[0m, in \u001b[0;36mResponse.json\u001b[0;34m(self, **kwargs)\u001b[0m\n\u001b[1;32m    <a href='file:///usr/local/anaconda3/envs/ina2/lib/python3.9/site-packages/requests/models.py?line=914'>915</a>\u001b[0m     \u001b[39mraise\u001b[39;00m RequestsJSONDecodeError(e\u001b[39m.\u001b[39mmessage)\n\u001b[1;32m    <a href='file:///usr/local/anaconda3/envs/ina2/lib/python3.9/site-packages/requests/models.py?line=915'>916</a>\u001b[0m \u001b[39melse\u001b[39;00m:\n\u001b[0;32m--> <a href='file:///usr/local/anaconda3/envs/ina2/lib/python3.9/site-packages/requests/models.py?line=916'>917</a>\u001b[0m     \u001b[39mraise\u001b[39;00m RequestsJSONDecodeError(e\u001b[39m.\u001b[39mmsg, e\u001b[39m.\u001b[39mdoc, e\u001b[39m.\u001b[39mpos)\n",
      "\u001b[0;31mJSONDecodeError\u001b[0m: [Errno Expecting value] <!DOCTYPE html>\n<html lang=\"en\">\n<meta charset=\"utf-8\">\n<title>Wikimedia Error</title>\n<style>\n* { margin: 0; padding: 0; }\nbody { background: #fff; font: 15px/1.6 sans-serif; color: #333; }\n.content { margin: 7% auto 0; padding: 2em 1em 1em; max-width: 640px; }\n.footer { clear: both; margin-top: 14%; border-top: 1px solid #e5e5e5; background: #f9f9f9; padding: 2em 0; font-size: 0.8em; text-align: center; }\nimg { float: left; margin: 0 2em 2em 0; }\na img { border: 0; }\nh1 { margin-top: 1em; font-size: 1.2em; }\n.content-text { overflow: hidden; overflow-wrap: break-word; word-wrap: break-word; -webkit-hyphens: auto; -moz-hyphens: auto; -ms-hyphens: auto; hyphens: auto; }\np { margin: 0.7em 0 1em 0; }\na { color: #0645ad; text-decoration: none; }\na:hover { text-decoration: underline; }\ncode { font-family: sans-serif; }\n.text-muted { color: #777; }\n</style>\n<div class=\"content\" role=\"main\">\n<a href=\"https://www.wikimedia.org\"><img src=\"https://www.wikimedia.org/static/images/wmf-logo.png\" srcset=\"https://www.wikimedia.org/static/images/wmf-logo-2x.png 2x\" alt=\"Wikimedia\" width=\"135\" height=\"101\">\n</a>\n<h1>Error</h1>\n<div class=\"content-text\">\n<p>Our servers are currently under maintenance or experiencing a technical problem.\n\nPlease <a href=\"\" title=\"Reload this page\" onclick=\"window.location.reload(false); return false\">try again</a> in a few&nbsp;minutes.</p>\n\n<p>See the error message at the bottom of this page for more&nbsp;information.</p>\n</div>\n</div>\n<div class=\"footer\"><p>If you report this error to the Wikimedia System Administrators, please include the details below.</p><p class=\"text-muted\"><code>Request from 93.103.214.134 via cp3058 cp3058, Varnish XID 972915662<br>Upstream caches: cp3058 int<br>Error: 429, Too many requests - for unthrottling, contact noc@wikimedia.org to discuss a less disruptive approach at Thu, 12 May 2022 20:26:26 GMT</code></p>\n</div>\n</html>\n: 0"
     ]
    }
   ],
   "source": [
    "all_titles = set()\n",
    "titles_20 = set()\n",
    "titles_50 = set()\n",
    "titles_100 = set()\n",
    "count = 0\n",
    "for title in titles:\n",
    "    page = wiki.page(title)\n",
    "    \n",
    "    all_titles.add(title)\n",
    "\n",
    "    summary_len = len(page.summary)\n",
    "    if summary_len > 20:\n",
    "        titles_20.add(title)\n",
    "\n",
    "    if summary_len > 50:\n",
    "        titles_50.add(title)\n",
    "\n",
    "    if summary_len > 100:\n",
    "        titles_100.add(title)\n",
    "    \n",
    "    count += 1\n",
    "    if count % 1000 == 0:\n",
    "        break"
   ]
  },
  {
   "cell_type": "code",
   "execution_count": 69,
   "metadata": {},
   "outputs": [
    {
     "data": {
      "text/plain": [
       "645"
      ]
     },
     "execution_count": 69,
     "metadata": {},
     "output_type": "execute_result"
    }
   ],
   "source": [
    "len(filtered_titles)"
   ]
  },
  {
   "cell_type": "code",
   "execution_count": 70,
   "metadata": {},
   "outputs": [
    {
     "data": {
      "text/plain": [
       "1000"
      ]
     },
     "execution_count": 70,
     "metadata": {},
     "output_type": "execute_result"
    }
   ],
   "source": [
    "len(all_titles)"
   ]
  },
  {
   "cell_type": "code",
   "execution_count": 71,
   "metadata": {},
   "outputs": [],
   "source": [
    "out = all_titles.difference(filtered_titles)"
   ]
  },
  {
   "cell_type": "code",
   "execution_count": 72,
   "metadata": {},
   "outputs": [
    {
     "data": {
      "text/plain": [
       "{'1. neaktivna divizija',\n",
       " '10. konjeniška divizija (Avstrijsko cesarstvo)',\n",
       " '1024 (število)',\n",
       " '1041. grenadirski polk (Wehrmacht)',\n",
       " '11. oklepnomehanizirana divizija',\n",
       " '113',\n",
       " '116 (število)',\n",
       " '12. smučarskolovska divizija',\n",
       " '131. pehotni polk (Avstro-Ogrska)',\n",
       " '14. tankovsko-grenadirska divizija',\n",
       " '1457',\n",
       " '149. strelska divizija (ZSSR)',\n",
       " '16 (število)',\n",
       " '1609',\n",
       " '1645',\n",
       " '180. polk',\n",
       " '192',\n",
       " '203. strelska divizija (ZSSR)',\n",
       " '24',\n",
       " '250. divizija',\n",
       " '28. korpus',\n",
       " '316',\n",
       " '32. armada',\n",
       " '326. divizija',\n",
       " '39',\n",
       " '4. varnostna divizija',\n",
       " '411vm 30',\n",
       " '479. poljska artilerijska brigada (ZDA)',\n",
       " '488',\n",
       " '597',\n",
       " '650.',\n",
       " '7. polk',\n",
       " '89. polk',\n",
       " '919. polk',\n",
       " 'A Guarda (Pontevedra)',\n",
       " 'A.C. Siena',\n",
       " 'AA',\n",
       " 'Abel (ime)',\n",
       " 'Abod',\n",
       " 'Aderščina',\n",
       " 'Aime Jacquet',\n",
       " 'Al-Amin',\n",
       " 'Albert-Raymond Mellier',\n",
       " 'Alojz Ihan',\n",
       " 'Ameriški letalski asi vietnamske vojne',\n",
       " 'Andreja Kalc',\n",
       " 'André-Jean-François Marie Brochant de Villiers',\n",
       " 'Antisten',\n",
       " 'Apače, Kidričevo',\n",
       " 'Baldassare Galuppi',\n",
       " 'Barbat',\n",
       " 'Barka (razločitev)',\n",
       " 'Battenheim',\n",
       " 'Beaufort, Jura',\n",
       " 'Belecska',\n",
       " 'Beli križ ob cesti Grad - Kruplivnik',\n",
       " 'Bob Bondurant',\n",
       " 'Boris Zidarič',\n",
       " 'Bratko',\n",
       " 'Brest (drevo)',\n",
       " 'Bronisław Rakowski',\n",
       " 'Brza (razločitev)',\n",
       " 'Bučje, Bor',\n",
       " 'Bélâbre',\n",
       " 'Camillo Siciliano di Rende',\n",
       " 'Cerkev sv. Martina na Ponikvah',\n",
       " 'Charles Stanford',\n",
       " 'Charles Young',\n",
       " 'Circuit Albigeois 1950',\n",
       " 'Cobitis elongata',\n",
       " 'Csákánydoroszló',\n",
       " 'Csécse',\n",
       " 'Deskanje na snegu na Zimskih olimpijskih igrah 2010 - ženski paralelni veleslalom',\n",
       " 'Diégo-Charles-Joseph Brosset',\n",
       " 'Dolac, Kraljevo',\n",
       " 'Donja Trnava, Topola',\n",
       " 'Donji Furjan',\n",
       " 'Donji Šajn',\n",
       " 'Draga, Škofja Loka',\n",
       " 'Druga ženska sklanjatev',\n",
       " 'Dvajseto stoletje',\n",
       " 'Dóc',\n",
       " 'Edgar Forster',\n",
       " 'Edward D. Swift',\n",
       " 'Edwin Morris',\n",
       " 'Elanus caeruleus',\n",
       " 'Endymion',\n",
       " 'Eric Greville Earle',\n",
       " 'Foktő',\n",
       " 'Formica rufa',\n",
       " 'Franc Kozjek',\n",
       " 'Franja Tavčar',\n",
       " 'Fred Willard',\n",
       " 'Fábiánsebestyén',\n",
       " 'Garinje',\n",
       " 'Geoffrey Drake-Brockman',\n",
       " 'Gilbert Savil Szlumper',\n",
       " 'Gladiator (roman)',\n",
       " 'Gorenja Brezovica, Šentjernej',\n",
       " 'Gornja Vlahinićka',\n",
       " 'Goršćaki (razločitev)',\n",
       " 'Gottfried Freiherr von Banfield',\n",
       " 'Grad Snežnik',\n",
       " 'Gređani',\n",
       " 'HMS Gloriosa (K201)',\n",
       " 'Hamilton',\n",
       " 'Harden',\n",
       " 'Harkanovci',\n",
       " 'Harry B. Sewell',\n",
       " 'Hejőpapi',\n",
       " 'Herbert William Vansittart Stewart',\n",
       " 'Herman II. Spanheimski',\n",
       " 'Homoseksualec',\n",
       " 'Honoré-Gustave-Charles Delalande',\n",
       " 'Horace W. Babcock',\n",
       " 'Hotspur',\n",
       " 'Hrvaški huzarski polk',\n",
       " 'IR 541',\n",
       " 'Ireneusz Jeleń',\n",
       " 'Isaac Manasses de Pas, Marquis de Feuquieres',\n",
       " 'Isaac Tichenor',\n",
       " 'Italijansko nogometno prvenstvo 1913-14',\n",
       " 'Ivan Kozler',\n",
       " 'Ivan Meštrović',\n",
       " 'Ivan Pintar (zdravnik)',\n",
       " 'Ivanka Novak',\n",
       " 'Jakunin',\n",
       " 'Jamajka, Land We Love',\n",
       " 'Jan Van Steenberghe',\n",
       " 'Jana',\n",
       " 'Jasenak, Srbija',\n",
       " 'Jean-Clément Blanc',\n",
       " 'Jerriais',\n",
       " 'John Cecil Alexander Dowse',\n",
       " 'John Dollond',\n",
       " 'Joscelyn Edward Seymour Percy',\n",
       " 'Jože Horvat',\n",
       " 'Jožef Petrovič',\n",
       " 'Julij (razločitev)',\n",
       " 'Kameno',\n",
       " 'Kamenščak',\n",
       " 'Kapela Svetega Duha, Večeslavci',\n",
       " 'Kašalj',\n",
       " 'Kenneth van der Spuy',\n",
       " 'Kjustendil',\n",
       " 'Klenak, Črna gora',\n",
       " 'Kloka',\n",
       " 'Knežina',\n",
       " 'Konjevići, Čačak',\n",
       " 'Konjuša, Osečina',\n",
       " 'Kožince',\n",
       " 'Kraljevec Radobojski',\n",
       " 'Križanci',\n",
       " 'Kustaa A. Tapola',\n",
       " 'Laspeyresia rativera',\n",
       " 'Le Creusot',\n",
       " 'Leon Zorman',\n",
       " 'Liam (Somrak)',\n",
       " 'Lipovčani',\n",
       " 'Litke, Madžarska',\n",
       " 'Lički Ribnik',\n",
       " 'Loborika',\n",
       " 'Lojz Kraigher',\n",
       " 'Loulay',\n",
       " 'Lovranska Draga',\n",
       " 'Loče, Šmartno v Rožni dolini',\n",
       " 'Lubej',\n",
       " 'Ludovico Simonetta',\n",
       " 'Luč, Petlovac',\n",
       " 'Lyman Lemnitzer',\n",
       " 'Maisnières',\n",
       " 'Majda Zupan',\n",
       " 'Major (Avstrija)',\n",
       " 'Malcolm David Erskine',\n",
       " 'Mariano Rampolla del Tindaro',\n",
       " 'Marica Vogelnik',\n",
       " 'Marjan Dovjak',\n",
       " 'Marko Rožman',\n",
       " 'Martin Gorše',\n",
       " 'Massospondylus',\n",
       " 'Mednarodni mojster',\n",
       " 'Mihec',\n",
       " 'Mike Beuttler',\n",
       " 'Milan Fabjančič',\n",
       " 'Milan Pajk (starejši)',\n",
       " 'Milivoje Antonijević',\n",
       " 'Moderator',\n",
       " 'Mravinjac (razločitev)',\n",
       " 'Muespach-le-Haut',\n",
       " 'NRS',\n",
       " 'Nagyrábé',\n",
       " 'Nina Vodušek',\n",
       " 'Norbert Burgmüller',\n",
       " 'Norman Robert Pogson',\n",
       " 'Novaki Oborovski',\n",
       " 'Novi Mikanovci',\n",
       " \"O'Brian\",\n",
       " 'Odprto prvenstvo Anglije 1974',\n",
       " 'Odprto prvenstvo Anglije 1983 - moški posamično',\n",
       " 'Odprto prvenstvo Anglije 1993 - ženske posamično',\n",
       " 'Odprto prvenstvo Avstralije 1970',\n",
       " 'Odprto prvenstvo ZDA 1993 - ženske posamično',\n",
       " 'Oliver Frederick Gillian Hogg',\n",
       " 'Otokar Praper',\n",
       " 'Palinovec',\n",
       " 'Papirus',\n",
       " 'Patrick Suffo',\n",
       " 'Paul-Henri Dumas',\n",
       " 'Pero (ime)',\n",
       " 'Peruški',\n",
       " 'Petina',\n",
       " 'Philippe Leclerc',\n",
       " 'Piramatovci',\n",
       " 'Piskanja',\n",
       " 'Plač',\n",
       " 'Plenibabe',\n",
       " 'Pobrđe, Črna gora',\n",
       " 'Poljice, Udbina',\n",
       " 'Pont-Audemer',\n",
       " 'Povodje (naselje)',\n",
       " 'Povšetova cesta, Ljubljana',\n",
       " 'Pradelles, Haute-Loire',\n",
       " 'Predor Učka',\n",
       " 'Prosim, odpusti mi',\n",
       " 'Prvenstvo Avstralije 1936 - ženske posamično',\n",
       " 'Radivoje Jovanović',\n",
       " 'Radosava',\n",
       " 'Rafka',\n",
       " 'Rakov oddelek',\n",
       " 'Raspberger',\n",
       " 'Rauma, Norveška',\n",
       " 'Razbore-K. O. Poljane',\n",
       " 'Reginald John Cash',\n",
       " 'Releza',\n",
       " 'Remigio dei Girolami',\n",
       " 'René-Léon Marchand',\n",
       " 'Riška mestna hiša',\n",
       " 'Robert Berić',\n",
       " 'Rokomet na Poletnih olimpijskih igrah 1976',\n",
       " 'Roč (razločitev)',\n",
       " 'Ročevnica',\n",
       " 'Rubribreza',\n",
       " 'Rupert Bežek',\n",
       " 'SC Corinthians Paulista',\n",
       " 'SM-liiga',\n",
       " 'Sahnovski',\n",
       " 'Saint-Pourcain-sur-Sioule',\n",
       " 'Sama svoja',\n",
       " 'Sefkerin',\n",
       " 'Selo, Žiri',\n",
       " 'Seznam britanskih pesnikov',\n",
       " 'Seznam elitnih enot sveta',\n",
       " 'Seznam fortifikacij v Sloveniji',\n",
       " 'Seznam francoskih zdravnikov',\n",
       " 'Seznam jezikoslovnih vsebin',\n",
       " 'Seznam mest na Nizozemskem',\n",
       " 'Seznam norveških računalnikarjev',\n",
       " 'Seznam občin italijanske dežele Apulija',\n",
       " 'Seznam osebnih imen na Z',\n",
       " 'Seznam osebnosti iz Občine Bled',\n",
       " 'Seznam osebnosti iz občine Šenčur',\n",
       " 'Seznam polkov po zaporednih številkah (1200. - 1249.)',\n",
       " 'Seznam portugalskih pisateljev',\n",
       " 'Seznam sikkimskih prejemnikov Viktorijinega križca',\n",
       " 'Seznam zambijskih politikov',\n",
       " 'Seznam čeških arheologov',\n",
       " 'Seznam čeških poslovnežev',\n",
       " 'Seznam čilenskih kardinalov',\n",
       " 'Slava (revija)',\n",
       " 'Slovenija v kvalifikacijah za nastop na Evropskem prvenstvu v nogometu 2008',\n",
       " 'Smokvica, Pag',\n",
       " 'Srednja vas-Loški Potok',\n",
       " 'Stanić (razločitev)',\n",
       " 'Stefan Jacek Dembiński',\n",
       " 'Stolac, Bosna in Hercegovina',\n",
       " 'Studena, Vranje',\n",
       " 'Sveta Ana v Slovenskih Goricah',\n",
       " 'Sveti Marko (Črna gora)',\n",
       " 'Sveti Petar, Mošćenička Draga',\n",
       " 'Szigetmonostor',\n",
       " 'T95 (samovozni top)',\n",
       " 'TN',\n",
       " 'Tadao Kobajaši',\n",
       " 'Tecuja Asano',\n",
       " 'Terme Maribor',\n",
       " 'Thomas Wolsey',\n",
       " 'Tolminski kmečki upor',\n",
       " 'Trn, Slivno',\n",
       " 'U 1168',\n",
       " 'U 263',\n",
       " 'U 271',\n",
       " 'U 3509',\n",
       " 'U 359',\n",
       " 'U 464',\n",
       " 'U 843',\n",
       " 'U 92',\n",
       " 'U-10 (Kriegsmarine)',\n",
       " 'U-141 (Kriegsmarine)',\n",
       " 'U-159',\n",
       " 'U-2553',\n",
       " 'U-315',\n",
       " 'U-4 (Kriegsmarine)',\n",
       " 'U-850',\n",
       " 'U131 (Kriegsmarine)',\n",
       " 'U2523',\n",
       " 'U416',\n",
       " 'U441',\n",
       " 'U859',\n",
       " 'U982',\n",
       " 'USS Edsall',\n",
       " 'USS Gary',\n",
       " 'USS Hull',\n",
       " 'USS Hyman G. Rickover (SSN 709)',\n",
       " 'USS La Salle',\n",
       " 'USS Vella Gulf',\n",
       " 'USS Vesuvius',\n",
       " 'Ulaka, Bloke',\n",
       " 'Unije (naselje)',\n",
       " 'Utrine',\n",
       " 'Velika loža Izraela',\n",
       " 'Velika loža Portugalske',\n",
       " 'Velika nagrada Avstrije 1986',\n",
       " 'Velika nagrada Italije 1998',\n",
       " 'Velika nagrada Švice 1951',\n",
       " \"Victor Marie d'Estrées\",\n",
       " 'Vidovdan (razločitev)',\n",
       " 'Viljem I. Pruski',\n",
       " 'Vilusi, Banjaluka',\n",
       " 'Vincenc Čižman',\n",
       " 'Vojislav Radić',\n",
       " 'Volapiško kodiranje',\n",
       " 'Vrabec',\n",
       " 'Vrbica, Podgorica',\n",
       " 'Vrbnica, Malo Crniće',\n",
       " 'Vámospércs',\n",
       " 'William H. Cunningham',\n",
       " 'Windstein',\n",
       " 'X. korpus (Avstrijsko cesarstvo)',\n",
       " 'Yu Qin',\n",
       " 'Zadubravlje',\n",
       " 'Zdravinje',\n",
       " 'Zlatorog',\n",
       " 'Zupci',\n",
       " 'Čairi',\n",
       " 'Čakanec',\n",
       " 'Čolnišče',\n",
       " 'Črečan',\n",
       " 'Šagudovec',\n",
       " 'Štiriinštirideseta armada',\n",
       " 'Žaborić',\n",
       " 'Župnija Koper',\n",
       " 'Župnija Ptujska Gora',\n",
       " 'Župnija Sele pri Slovenj Gradcu',\n",
       " 'Župnija Sv. Planina',\n",
       " 'Župnija Vir pri Domžalah'}"
      ]
     },
     "execution_count": 72,
     "metadata": {},
     "output_type": "execute_result"
    }
   ],
   "source": [
    "out"
   ]
  },
  {
   "cell_type": "code",
   "execution_count": 64,
   "metadata": {},
   "outputs": [
    {
     "data": {
      "text/plain": [
       "1"
      ]
     },
     "execution_count": 64,
     "metadata": {},
     "output_type": "execute_result"
    }
   ],
   "source": [
    "len(filtered_titles)"
   ]
  },
  {
   "cell_type": "code",
   "execution_count": 73,
   "metadata": {},
   "outputs": [
    {
     "data": {
      "text/plain": [
       "132"
      ]
     },
     "execution_count": 73,
     "metadata": {},
     "output_type": "execute_result"
    }
   ],
   "source": [
    "len(\"Župnija Sele pri Slovenj Gradcu je rimskokatoliška teritorialna župnija Dekanije Stari trg Koroškega naddekanata Nadškofije Maribor.\")"
   ]
  },
  {
   "cell_type": "code",
   "execution_count": null,
   "metadata": {},
   "outputs": [],
   "source": []
  }
 ],
 "metadata": {
  "interpreter": {
   "hash": "ad4436c7e962e949d150c76746916f0dd543f0521219d740f210ff6e4096d070"
  },
  "kernelspec": {
   "display_name": "Python 3.9.12 ('ina2')",
   "language": "python",
   "name": "python3"
  },
  "language_info": {
   "codemirror_mode": {
    "name": "ipython",
    "version": 3
   },
   "file_extension": ".py",
   "mimetype": "text/x-python",
   "name": "python",
   "nbconvert_exporter": "python",
   "pygments_lexer": "ipython3",
   "version": "3.9.12"
  },
  "orig_nbformat": 4
 },
 "nbformat": 4,
 "nbformat_minor": 2
}
