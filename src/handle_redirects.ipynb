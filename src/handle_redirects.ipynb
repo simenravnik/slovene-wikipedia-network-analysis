{
 "cells": [
  {
   "cell_type": "code",
   "execution_count": 11,
   "metadata": {},
   "outputs": [],
   "source": [
    "import os\n",
    "import json\n",
    "import requests\n",
    "from collections import defaultdict\n",
    "import time\n",
    "\n",
    "WIKIPEDIA_API = \"https://sl.wikipedia.org/w/api.php\"\n",
    "PWD = os.getcwd()\n",
    "\n",
    "with open(os.path.join(\"..\", \"data\", \"wikilinks.json\"), \"r\") as f:\n",
    "    data = json.loads(f.read())\n",
    "\n",
    "with open(os.path.join(\"..\", \"data\", \"title_to_id_map.json\"), \"r\") as f:\n",
    "    title_to_id_map = json.loads(f.read())\n",
    "\n",
    "with open(os.path.join(\"..\", \"data\", \"id_to_title_map.json\"), \"r\") as f:\n",
    "    id_to_title_map = json.loads(f.read())\n",
    "\n",
    "with open(os.path.join(\"..\", \"data\", \"redirect_map.json\"), \"r\") as f:\n",
    "    redirect_map = json.loads(f.read())"
   ]
  },
  {
   "cell_type": "code",
   "execution_count": 12,
   "metadata": {},
   "outputs": [],
   "source": [
    "redirected_ids = set(redirect_map.keys())\n",
    "for id, links in data.items():\n",
    "\n",
    "    new_links = []\n",
    "    for i in links:\n",
    "        if str(i) in redirected_ids:\n",
    "            new_links.append(redirect_map[str(i)])\n",
    "        else:\n",
    "            new_links.append(i)\n",
    "    \n",
    "    data[id] = new_links"
   ]
  },
  {
   "cell_type": "code",
   "execution_count": 13,
   "metadata": {},
   "outputs": [],
   "source": [
    "for id in list(data.keys()):\n",
    "    if id in redirected_ids:\n",
    "\n",
    "        links_first = set(data[id])\n",
    "        links_second = set(data[str(redirect_map[id])])\n",
    "        all_links = list(links_first.union(links_second))\n",
    "\n",
    "        data[str(redirect_map[id])] = all_links\n",
    "        del data[id]"
   ]
  },
  {
   "cell_type": "code",
   "execution_count": 15,
   "metadata": {},
   "outputs": [],
   "source": [
    "with open(os.path.join(\"..\", \"data\", 'wikilinks.json'), 'w') as f:\n",
    "    json.dump(data, f)"
   ]
  }
 ],
 "metadata": {
  "interpreter": {
   "hash": "ad4436c7e962e949d150c76746916f0dd543f0521219d740f210ff6e4096d070"
  },
  "kernelspec": {
   "display_name": "Python 3.9.12 ('ina2')",
   "language": "python",
   "name": "python3"
  },
  "language_info": {
   "codemirror_mode": {
    "name": "ipython",
    "version": 3
   },
   "file_extension": ".py",
   "mimetype": "text/x-python",
   "name": "python",
   "nbconvert_exporter": "python",
   "pygments_lexer": "ipython3",
   "version": "3.9.12"
  },
  "orig_nbformat": 4
 },
 "nbformat": 4,
 "nbformat_minor": 2
}
