{
 "cells": [
  {
   "cell_type": "code",
   "execution_count": 1,
   "metadata": {},
   "outputs": [
    {
     "name": "stderr",
     "output_type": "stream",
     "text": [
      "/usr/local/anaconda3/envs/ina2/lib/python3.9/site-packages/tqdm/auto.py:22: TqdmWarning: IProgress not found. Please update jupyter and ipywidgets. See https://ipywidgets.readthedocs.io/en/stable/user_install.html\n",
      "  from .autonotebook import tqdm as notebook_tqdm\n"
     ]
    }
   ],
   "source": [
    "import random\n",
    "import networkx as nx\n",
    "import os\n",
    "from node2vec.edges import HadamardEmbedder\n",
    "import numpy as np\n",
    "from sklearn.linear_model import LogisticRegression\n",
    "import json"
   ]
  },
  {
   "cell_type": "code",
   "execution_count": 2,
   "metadata": {},
   "outputs": [],
   "source": [
    "def read_net(folder, graph_name):\n",
    "    \"\"\"Read network\"\"\"\n",
    "    file_name = graph_name + '.net'\n",
    "    G = nx.DiGraph(name = file_name)\n",
    "    with open(os.path.join(folder, file_name), 'r', encoding='utf8') as f:\n",
    "        f.readline()\n",
    "        # add nodes\n",
    "        for line in f:\n",
    "            if line.startswith(\"*\"):\n",
    "                break\n",
    "            else:\n",
    "                node_info = line.split(\"\\\"\")\n",
    "                node = int(node_info[0]) - 1\n",
    "                label = node_info[1]\n",
    "                G.add_node(node, label=label)\n",
    "\n",
    "        # add edges\n",
    "        for line in f:\n",
    "            node1_str, node2_str = line.split()[:2]\n",
    "            G.add_edge(int(node1_str)-1, int(node2_str)-1)\n",
    "    return G"
   ]
  },
  {
   "cell_type": "code",
   "execution_count": 3,
   "metadata": {},
   "outputs": [],
   "source": [
    "def train_graph(G, train = 0.8):\n",
    "  nodes = list(G.nodes())\n",
    "  edges = list(G.edges())\n",
    "  random.shuffle(edges)\n",
    "  \n",
    "  non_edges = []\n",
    "  while len(non_edges) < len(edges):\n",
    "    i = random.choice(nodes)\n",
    "    j = random.choice(nodes)\n",
    "    if i != j and not G.has_edge(i, j):\n",
    "      non_edges.append((i, j))\n",
    "  \n",
    "  train = int(train * len(edges))\n",
    "  G = G.copy()\n",
    "  G.remove_edges_from(edges[train:])\n",
    "  \n",
    "  return G, {\"train\": {1: edges[:train], 0: non_edges[:train]}, \"test\": {1: edges[train:], 0: non_edges[train:]}}"
   ]
  },
  {
   "cell_type": "code",
   "execution_count": 4,
   "metadata": {},
   "outputs": [],
   "source": [
    "G = read_net(os.path.join(\"..\", \"..\", \"data\"), \"wikilinks_ids\")"
   ]
  },
  {
   "cell_type": "code",
   "execution_count": 5,
   "metadata": {},
   "outputs": [],
   "source": [
    "G_train, split = train_graph(G)"
   ]
  },
  {
   "cell_type": "code",
   "execution_count": 7,
   "metadata": {},
   "outputs": [],
   "source": [
    "nx.write_edgelist(G, \"../../data/wikilinks_train.edg\")"
   ]
  },
  {
   "cell_type": "code",
   "execution_count": 8,
   "metadata": {},
   "outputs": [],
   "source": [
    "with open(os.path.join(\"..\", \"..\", \"data\", \"train_test_spit.json\"), \"w\") as f:\n",
    "    json.dump(split, f)"
   ]
  }
 ],
 "metadata": {
  "interpreter": {
   "hash": "ad4436c7e962e949d150c76746916f0dd543f0521219d740f210ff6e4096d070"
  },
  "kernelspec": {
   "display_name": "Python 3.9.12 ('ina2')",
   "language": "python",
   "name": "python3"
  },
  "language_info": {
   "codemirror_mode": {
    "name": "ipython",
    "version": 3
   },
   "file_extension": ".py",
   "mimetype": "text/x-python",
   "name": "python",
   "nbconvert_exporter": "python",
   "pygments_lexer": "ipython3",
   "version": "3.9.12"
  },
  "orig_nbformat": 4
 },
 "nbformat": 4,
 "nbformat_minor": 2
}
