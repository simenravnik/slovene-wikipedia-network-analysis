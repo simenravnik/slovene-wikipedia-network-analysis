{
 "cells": [
  {
   "cell_type": "code",
   "execution_count": 1,
   "metadata": {},
   "outputs": [
    {
     "name": "stderr",
     "output_type": "stream",
     "text": [
      "/usr/local/anaconda3/envs/ina2/lib/python3.9/site-packages/tqdm/auto.py:22: TqdmWarning: IProgress not found. Please update jupyter and ipywidgets. See https://ipywidgets.readthedocs.io/en/stable/user_install.html\n",
      "  from .autonotebook import tqdm as notebook_tqdm\n"
     ]
    }
   ],
   "source": [
    "import random\n",
    "import networkx as nx\n",
    "import os\n",
    "from node2vec.edges import HadamardEmbedder\n",
    "import numpy as np\n",
    "from sklearn.linear_model import LogisticRegression\n",
    "import json"
   ]
  },
  {
   "cell_type": "code",
   "execution_count": 2,
   "metadata": {},
   "outputs": [],
   "source": [
    "def read_net(folder, graph_name):\n",
    "    \"\"\"Read network\"\"\"\n",
    "    file_name = graph_name + '.net'\n",
    "    G = nx.DiGraph(name = file_name)\n",
    "    with open(os.path.join(folder, file_name), 'r', encoding='utf8') as f:\n",
    "        f.readline()\n",
    "        # add nodes\n",
    "        for line in f:\n",
    "            if line.startswith(\"*\"):\n",
    "                break\n",
    "            else:\n",
    "                node_info = line.split(\"\\\"\")\n",
    "                node = int(node_info[0]) - 1\n",
    "                label = node_info[1]\n",
    "                G.add_node(node, label=label)\n",
    "\n",
    "        # add edges\n",
    "        for line in f:\n",
    "            node1_str, node2_str = line.split()[:2]\n",
    "            G.add_edge(int(node1_str)-1, int(node2_str)-1)\n",
    "    return G"
   ]
  },
  {
   "cell_type": "code",
   "execution_count": 3,
   "metadata": {},
   "outputs": [],
   "source": [
    "def train_graph(G, train = 0.8):\n",
    "  nodes = list(G.nodes())\n",
    "  edges = list(G.edges())\n",
    "  random.shuffle(edges)\n",
    "  \n",
    "  non_edges = []\n",
    "  while len(non_edges) < len(edges):\n",
    "    i = random.choice(nodes)\n",
    "    j = random.choice(nodes)\n",
    "    if i != j and not G.has_edge(i, j):\n",
    "      non_edges.append((i, j))\n",
    "  \n",
    "  train = int(train * len(edges))\n",
    "  G = G.copy()\n",
    "  G.remove_edges_from(edges[train:])\n",
    "  \n",
    "  return G, {\"train\": {1: edges[:train], 0: non_edges[:train]}, \"test\": {1: edges[train:], 0: non_edges[train:]}}"
   ]
  },
  {
   "cell_type": "code",
   "execution_count": 4,
   "metadata": {},
   "outputs": [],
   "source": [
    "G = read_net(os.path.join(\"..\", \"..\", \"data\"), \"wikilinks_ids\")"
   ]
  },
  {
   "cell_type": "code",
   "execution_count": 5,
   "metadata": {},
   "outputs": [],
   "source": [
    "G_train, split = train_graph(G)"
   ]
  },
  {
   "cell_type": "code",
   "execution_count": 7,
   "metadata": {},
   "outputs": [],
   "source": [
    "nx.write_edgelist(G, \"../../data/wikilinks_train.edg\")"
   ]
  },
  {
   "cell_type": "code",
   "execution_count": 8,
   "metadata": {},
   "outputs": [],
   "source": [
    "with open(os.path.join(\"..\", \"..\", \"data\", \"train_test_spit.json\"), \"w\") as f:\n",
    "    json.dump(split, f)"
   ]
  },
  {
   "cell_type": "code",
   "execution_count": 9,
   "metadata": {},
   "outputs": [],
   "source": [
    "EMBEDDING_FILENAME = os.path.join(\"..\", \"..\", \"data\", \"wikilinks_train.emb\")\n",
    "embeddings = np.genfromtxt(EMBEDDING_FILENAME, delimiter=',')"
   ]
  },
  {
   "cell_type": "code",
   "execution_count": 10,
   "metadata": {},
   "outputs": [
    {
     "name": "stdout",
     "output_type": "stream",
     "text": [
      "sem tu\n",
      "sem tu2\n",
      "sem tu3\n",
      "sem tu4\n"
     ]
    }
   ],
   "source": [
    "X_train = []\n",
    "y_train = []\n",
    "X_test = []\n",
    "y_test = []\n",
    "for i, j in split[\"train\"][1]:\n",
    "    hamadar = embeddings[i] * embeddings[j]\n",
    "    X_train.append(hamadar)\n",
    "    y_train.append(1)\n",
    "print(\"sem tu\")\n",
    "for i, j in split[\"train\"][0]:\n",
    "    hamadar = embeddings[i] * embeddings[j]\n",
    "    X_train.append(hamadar)\n",
    "    y_train.append(0)\n",
    "print(\"sem tu2\")\n",
    "for i, j in split[\"test\"][1]:\n",
    "    hamadar = embeddings[i] * embeddings[j]\n",
    "    X_test.append(hamadar)\n",
    "    y_test.append(1)\n",
    "print(\"sem tu3\")\n",
    "for i, j in split[\"test\"][0]:\n",
    "    hamadar = embeddings[i] * embeddings[j]\n",
    "    X_test.append(hamadar)\n",
    "    y_test.append(0)\n",
    "print(\"sem tu4\")"
   ]
  },
  {
   "cell_type": "code",
   "execution_count": 2,
   "metadata": {},
   "outputs": [],
   "source": [
    "with open(\"../../data/train_test_spit.json\", \"r\") as f:\n",
    "    split = json.load(f)"
   ]
  },
  {
   "cell_type": "code",
   "execution_count": 3,
   "metadata": {},
   "outputs": [],
   "source": [
    "EMBEDDING_FILENAME = os.path.join(\"..\", \"..\", \"data\", \"wikilinks_train.emb\")\n",
    "embeddings = np.genfromtxt(EMBEDDING_FILENAME, delimiter=',')"
   ]
  },
  {
   "cell_type": "code",
   "execution_count": null,
   "metadata": {},
   "outputs": [],
   "source": [
    "X = "
   ]
  },
  {
   "cell_type": "code",
   "execution_count": 35,
   "metadata": {},
   "outputs": [
    {
     "ename": "",
     "evalue": "",
     "output_type": "error",
     "traceback": [
      "\u001b[1;31mCanceled future for execute_request message before replies were done"
     ]
    },
    {
     "ename": "",
     "evalue": "",
     "output_type": "error",
     "traceback": [
      "\u001b[1;31mThe Kernel crashed while executing code in the the current cell or a previous cell. Please review the code in the cell(s) to identify a possible cause of the failure. Click <a href='https://aka.ms/vscodeJupyterKernelCrash'>here</a> for more info. View Jupyter <a href='command:jupyter.viewOutput'>log</a> for further details."
     ]
    }
   ],
   "source": [
    "X_train = []\n",
    "y_train = []\n",
    "X_test = []\n",
    "y_test = []\n",
    "for i, j in split[\"train\"][\"1\"]:\n",
    "    X_train.append(list(np.concatenate((embeddings[i], embeddings[j]), axis=0)))\n",
    "    y_train.append(1)\n",
    "print(\"sem tu\")\n",
    "for i, j in split[\"train\"][\"0\"]:\n",
    "    X_train.append(list(np.concatenate((embeddings[i], embeddings[j]), axis=0)))\n",
    "    y_train.append(0)\n",
    "print(\"sem tu2\")\n",
    "for i, j in split[\"test\"][\"1\"]:\n",
    "    X_test.append(list(np.concatenate((embeddings[i], embeddings[j]), axis=0)))\n",
    "    y_test.append(1)\n",
    "print(\"sem tu3\")\n",
    "for i, j in split[\"test\"][\"0\"]:\n",
    "    X_test.append(list(np.concatenate((embeddings[i], embeddings[j]), axis=0)))\n",
    "    y_test.append(0)\n",
    "print(\"sem tu4\")"
   ]
  },
  {
   "cell_type": "code",
   "execution_count": 5,
   "metadata": {},
   "outputs": [
    {
     "ename": "TypeError",
     "evalue": "Object of type ndarray is not JSON serializable",
     "output_type": "error",
     "traceback": [
      "\u001b[0;31m---------------------------------------------------------------------------\u001b[0m",
      "\u001b[0;31mTypeError\u001b[0m                                 Traceback (most recent call last)",
      "\u001b[1;32m/Users/simenravnik/Documents/FRI/Masters/1.Letnik/2.Semester/INA/project/src/link_prediction/prediction.ipynb Cell 13'\u001b[0m in \u001b[0;36m<cell line: 1>\u001b[0;34m()\u001b[0m\n\u001b[1;32m      <a href='vscode-notebook-cell:/Users/simenravnik/Documents/FRI/Masters/1.Letnik/2.Semester/INA/project/src/link_prediction/prediction.ipynb#ch0000026?line=0'>1</a>\u001b[0m \u001b[39mwith\u001b[39;00m \u001b[39mopen\u001b[39m(os\u001b[39m.\u001b[39mpath\u001b[39m.\u001b[39mjoin(\u001b[39m\"\u001b[39m\u001b[39m..\u001b[39m\u001b[39m\"\u001b[39m, \u001b[39m\"\u001b[39m\u001b[39m..\u001b[39m\u001b[39m\"\u001b[39m, \u001b[39m\"\u001b[39m\u001b[39mdata\u001b[39m\u001b[39m\"\u001b[39m, \u001b[39m\"\u001b[39m\u001b[39mX_train.json\u001b[39m\u001b[39m\"\u001b[39m), \u001b[39m\"\u001b[39m\u001b[39mw\u001b[39m\u001b[39m\"\u001b[39m) \u001b[39mas\u001b[39;00m f:\n\u001b[0;32m----> <a href='vscode-notebook-cell:/Users/simenravnik/Documents/FRI/Masters/1.Letnik/2.Semester/INA/project/src/link_prediction/prediction.ipynb#ch0000026?line=1'>2</a>\u001b[0m     json\u001b[39m.\u001b[39;49mdump(X_train, f)\n",
      "File \u001b[0;32m/usr/local/anaconda3/envs/ina2/lib/python3.9/json/__init__.py:179\u001b[0m, in \u001b[0;36mdump\u001b[0;34m(obj, fp, skipkeys, ensure_ascii, check_circular, allow_nan, cls, indent, separators, default, sort_keys, **kw)\u001b[0m\n\u001b[1;32m    <a href='file:///usr/local/anaconda3/envs/ina2/lib/python3.9/json/__init__.py?line=172'>173</a>\u001b[0m     iterable \u001b[39m=\u001b[39m \u001b[39mcls\u001b[39m(skipkeys\u001b[39m=\u001b[39mskipkeys, ensure_ascii\u001b[39m=\u001b[39mensure_ascii,\n\u001b[1;32m    <a href='file:///usr/local/anaconda3/envs/ina2/lib/python3.9/json/__init__.py?line=173'>174</a>\u001b[0m         check_circular\u001b[39m=\u001b[39mcheck_circular, allow_nan\u001b[39m=\u001b[39mallow_nan, indent\u001b[39m=\u001b[39mindent,\n\u001b[1;32m    <a href='file:///usr/local/anaconda3/envs/ina2/lib/python3.9/json/__init__.py?line=174'>175</a>\u001b[0m         separators\u001b[39m=\u001b[39mseparators,\n\u001b[1;32m    <a href='file:///usr/local/anaconda3/envs/ina2/lib/python3.9/json/__init__.py?line=175'>176</a>\u001b[0m         default\u001b[39m=\u001b[39mdefault, sort_keys\u001b[39m=\u001b[39msort_keys, \u001b[39m*\u001b[39m\u001b[39m*\u001b[39mkw)\u001b[39m.\u001b[39miterencode(obj)\n\u001b[1;32m    <a href='file:///usr/local/anaconda3/envs/ina2/lib/python3.9/json/__init__.py?line=176'>177</a>\u001b[0m \u001b[39m# could accelerate with writelines in some versions of Python, at\u001b[39;00m\n\u001b[1;32m    <a href='file:///usr/local/anaconda3/envs/ina2/lib/python3.9/json/__init__.py?line=177'>178</a>\u001b[0m \u001b[39m# a debuggability cost\u001b[39;00m\n\u001b[0;32m--> <a href='file:///usr/local/anaconda3/envs/ina2/lib/python3.9/json/__init__.py?line=178'>179</a>\u001b[0m \u001b[39mfor\u001b[39;00m chunk \u001b[39min\u001b[39;00m iterable:\n\u001b[1;32m    <a href='file:///usr/local/anaconda3/envs/ina2/lib/python3.9/json/__init__.py?line=179'>180</a>\u001b[0m     fp\u001b[39m.\u001b[39mwrite(chunk)\n",
      "File \u001b[0;32m/usr/local/anaconda3/envs/ina2/lib/python3.9/json/encoder.py:429\u001b[0m, in \u001b[0;36m_make_iterencode.<locals>._iterencode\u001b[0;34m(o, _current_indent_level)\u001b[0m\n\u001b[1;32m    <a href='file:///usr/local/anaconda3/envs/ina2/lib/python3.9/json/encoder.py?line=426'>427</a>\u001b[0m     \u001b[39myield\u001b[39;00m _floatstr(o)\n\u001b[1;32m    <a href='file:///usr/local/anaconda3/envs/ina2/lib/python3.9/json/encoder.py?line=427'>428</a>\u001b[0m \u001b[39melif\u001b[39;00m \u001b[39misinstance\u001b[39m(o, (\u001b[39mlist\u001b[39m, \u001b[39mtuple\u001b[39m)):\n\u001b[0;32m--> <a href='file:///usr/local/anaconda3/envs/ina2/lib/python3.9/json/encoder.py?line=428'>429</a>\u001b[0m     \u001b[39myield from\u001b[39;00m _iterencode_list(o, _current_indent_level)\n\u001b[1;32m    <a href='file:///usr/local/anaconda3/envs/ina2/lib/python3.9/json/encoder.py?line=429'>430</a>\u001b[0m \u001b[39melif\u001b[39;00m \u001b[39misinstance\u001b[39m(o, \u001b[39mdict\u001b[39m):\n\u001b[1;32m    <a href='file:///usr/local/anaconda3/envs/ina2/lib/python3.9/json/encoder.py?line=430'>431</a>\u001b[0m     \u001b[39myield from\u001b[39;00m _iterencode_dict(o, _current_indent_level)\n",
      "File \u001b[0;32m/usr/local/anaconda3/envs/ina2/lib/python3.9/json/encoder.py:325\u001b[0m, in \u001b[0;36m_make_iterencode.<locals>._iterencode_list\u001b[0;34m(lst, _current_indent_level)\u001b[0m\n\u001b[1;32m    <a href='file:///usr/local/anaconda3/envs/ina2/lib/python3.9/json/encoder.py?line=322'>323</a>\u001b[0m         \u001b[39melse\u001b[39;00m:\n\u001b[1;32m    <a href='file:///usr/local/anaconda3/envs/ina2/lib/python3.9/json/encoder.py?line=323'>324</a>\u001b[0m             chunks \u001b[39m=\u001b[39m _iterencode(value, _current_indent_level)\n\u001b[0;32m--> <a href='file:///usr/local/anaconda3/envs/ina2/lib/python3.9/json/encoder.py?line=324'>325</a>\u001b[0m         \u001b[39myield from\u001b[39;00m chunks\n\u001b[1;32m    <a href='file:///usr/local/anaconda3/envs/ina2/lib/python3.9/json/encoder.py?line=325'>326</a>\u001b[0m \u001b[39mif\u001b[39;00m newline_indent \u001b[39mis\u001b[39;00m \u001b[39mnot\u001b[39;00m \u001b[39mNone\u001b[39;00m:\n\u001b[1;32m    <a href='file:///usr/local/anaconda3/envs/ina2/lib/python3.9/json/encoder.py?line=326'>327</a>\u001b[0m     _current_indent_level \u001b[39m-\u001b[39m\u001b[39m=\u001b[39m \u001b[39m1\u001b[39m\n",
      "File \u001b[0;32m/usr/local/anaconda3/envs/ina2/lib/python3.9/json/encoder.py:438\u001b[0m, in \u001b[0;36m_make_iterencode.<locals>._iterencode\u001b[0;34m(o, _current_indent_level)\u001b[0m\n\u001b[1;32m    <a href='file:///usr/local/anaconda3/envs/ina2/lib/python3.9/json/encoder.py?line=435'>436</a>\u001b[0m         \u001b[39mraise\u001b[39;00m \u001b[39mValueError\u001b[39;00m(\u001b[39m\"\u001b[39m\u001b[39mCircular reference detected\u001b[39m\u001b[39m\"\u001b[39m)\n\u001b[1;32m    <a href='file:///usr/local/anaconda3/envs/ina2/lib/python3.9/json/encoder.py?line=436'>437</a>\u001b[0m     markers[markerid] \u001b[39m=\u001b[39m o\n\u001b[0;32m--> <a href='file:///usr/local/anaconda3/envs/ina2/lib/python3.9/json/encoder.py?line=437'>438</a>\u001b[0m o \u001b[39m=\u001b[39m _default(o)\n\u001b[1;32m    <a href='file:///usr/local/anaconda3/envs/ina2/lib/python3.9/json/encoder.py?line=438'>439</a>\u001b[0m \u001b[39myield from\u001b[39;00m _iterencode(o, _current_indent_level)\n\u001b[1;32m    <a href='file:///usr/local/anaconda3/envs/ina2/lib/python3.9/json/encoder.py?line=439'>440</a>\u001b[0m \u001b[39mif\u001b[39;00m markers \u001b[39mis\u001b[39;00m \u001b[39mnot\u001b[39;00m \u001b[39mNone\u001b[39;00m:\n",
      "File \u001b[0;32m/usr/local/anaconda3/envs/ina2/lib/python3.9/json/encoder.py:179\u001b[0m, in \u001b[0;36mJSONEncoder.default\u001b[0;34m(self, o)\u001b[0m\n\u001b[1;32m    <a href='file:///usr/local/anaconda3/envs/ina2/lib/python3.9/json/encoder.py?line=159'>160</a>\u001b[0m \u001b[39mdef\u001b[39;00m \u001b[39mdefault\u001b[39m(\u001b[39mself\u001b[39m, o):\n\u001b[1;32m    <a href='file:///usr/local/anaconda3/envs/ina2/lib/python3.9/json/encoder.py?line=160'>161</a>\u001b[0m     \u001b[39m\"\"\"Implement this method in a subclass such that it returns\u001b[39;00m\n\u001b[1;32m    <a href='file:///usr/local/anaconda3/envs/ina2/lib/python3.9/json/encoder.py?line=161'>162</a>\u001b[0m \u001b[39m    a serializable object for ``o``, or calls the base implementation\u001b[39;00m\n\u001b[1;32m    <a href='file:///usr/local/anaconda3/envs/ina2/lib/python3.9/json/encoder.py?line=162'>163</a>\u001b[0m \u001b[39m    (to raise a ``TypeError``).\u001b[39;00m\n\u001b[0;32m   (...)\u001b[0m\n\u001b[1;32m    <a href='file:///usr/local/anaconda3/envs/ina2/lib/python3.9/json/encoder.py?line=176'>177</a>\u001b[0m \n\u001b[1;32m    <a href='file:///usr/local/anaconda3/envs/ina2/lib/python3.9/json/encoder.py?line=177'>178</a>\u001b[0m \u001b[39m    \"\"\"\u001b[39;00m\n\u001b[0;32m--> <a href='file:///usr/local/anaconda3/envs/ina2/lib/python3.9/json/encoder.py?line=178'>179</a>\u001b[0m     \u001b[39mraise\u001b[39;00m \u001b[39mTypeError\u001b[39;00m(\u001b[39mf\u001b[39m\u001b[39m'\u001b[39m\u001b[39mObject of type \u001b[39m\u001b[39m{\u001b[39;00mo\u001b[39m.\u001b[39m\u001b[39m__class__\u001b[39m\u001b[39m.\u001b[39m\u001b[39m__name__\u001b[39m\u001b[39m}\u001b[39;00m\u001b[39m \u001b[39m\u001b[39m'\u001b[39m\n\u001b[1;32m    <a href='file:///usr/local/anaconda3/envs/ina2/lib/python3.9/json/encoder.py?line=179'>180</a>\u001b[0m                     \u001b[39mf\u001b[39m\u001b[39m'\u001b[39m\u001b[39mis not JSON serializable\u001b[39m\u001b[39m'\u001b[39m)\n",
      "\u001b[0;31mTypeError\u001b[0m: Object of type ndarray is not JSON serializable"
     ]
    }
   ],
   "source": [
    "with open(os.path.join(\"..\", \"..\", \"data\", \"X_train.json\"), \"w\") as f:\n",
    "    json.dump(X_train, f)"
   ]
  }
 ],
 "metadata": {
  "interpreter": {
   "hash": "ad4436c7e962e949d150c76746916f0dd543f0521219d740f210ff6e4096d070"
  },
  "kernelspec": {
   "display_name": "Python 3.9.12 ('ina2')",
   "language": "python",
   "name": "python3"
  },
  "language_info": {
   "codemirror_mode": {
    "name": "ipython",
    "version": 3
   },
   "file_extension": ".py",
   "mimetype": "text/x-python",
   "name": "python",
   "nbconvert_exporter": "python",
   "pygments_lexer": "ipython3",
   "version": "3.9.12"
  },
  "orig_nbformat": 4
 },
 "nbformat": 4,
 "nbformat_minor": 2
}
